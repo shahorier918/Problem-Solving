{
  "nbformat": 4,
  "nbformat_minor": 0,
  "metadata": {
    "colab": {
      "provenance": [],
      "authorship_tag": "ABX9TyOm0qOURYiHWsnWjCXQY5E3",
      "include_colab_link": true
    },
    "kernelspec": {
      "name": "python3",
      "display_name": "Python 3"
    },
    "language_info": {
      "name": "python"
    }
  },
  "cells": [
    {
      "cell_type": "markdown",
      "metadata": {
        "id": "view-in-github",
        "colab_type": "text"
      },
      "source": [
        "<a href=\"https://colab.research.google.com/github/shahorier918/Problem-Solving/blob/main/We%20will%20check%20the%20sum%20of%20every%20possible%20subarray%20and%20consider%20the%20maximum%20among%20them.%20To%20get%20every%20possible%20subarray%20sum%2C%20we%20will%20be%20using%20three%20nested%20loops.%20The%20first%20loops(say%20i%20and%20j)%20will%20iterate%20over%20every%20possible%20starting%20index%20and%20ending%20index%20of%20a%20subarray.%20Basically%2C%20in%20each%20iteration%2C%20the%20subarray%20range%20will%20be%20from%20index%20i%20to%20index%20j.%20Using%20another%20loop%20we%20will%20get%20the%20sum%20of%20the%20elements%20of%20the%20subarray%20%5Bi%E2%80%A6..j%5D.%20Among%20all%20values%20of%20the%20sum%20calculated%2C%20we%20will%20consider%20the%20maximum%20one..ipynb\" target=\"_parent\"><img src=\"https://colab.research.google.com/assets/colab-badge.svg\" alt=\"Open In Colab\"/></a>"
      ]
    },
    {
      "cell_type": "markdown",
      "source": [
        "## We will check the sum of every possible subarray and consider the maximum among them. To get every possible subarray sum, we will be using three nested loops. The first loops(say i and j) will iterate over every possible starting index and ending index of a subarray. Basically, in each iteration, the subarray range will be from index i to index j. Using another loop we will get the sum of the elements of the subarray [i…..j]. Among all values of the sum calculated, we will consider the maximum one."
      ],
      "metadata": {
        "id": "KO9aP1qDQsTj"
      }
    },
    {
      "cell_type": "code",
      "source": [
        "\n",
        "import sys\n",
        "\n",
        "def maxSubarraySum(arr, n):\n",
        "    maxi = -sys.maxsize - 1  # maximum sum\n",
        "\n",
        "    for i in range(n):\n",
        "        for j in range(i, n):\n",
        "            # subarray = arr[i.....j]\n",
        "            summ = 0\n",
        "\n",
        "            # add all the elements of subarray:\n",
        "            for k in range(i, j+1):\n",
        "                summ += arr[k]\n",
        "\n",
        "            maxi = max(maxi, summ)\n",
        "\n",
        "    return maxi\n",
        "\n",
        "if __name__ == \"__main__\":\n",
        "    arr = [-2, 1, -3, 4, -1, 2, 1, -5, 4]\n",
        "    n = len(arr)\n",
        "    maxSum = maxSubarraySum(arr, n)\n",
        "    print(\"The maximum subarray sum is:\", maxSum)\n",
        "\n"
      ],
      "metadata": {
        "colab": {
          "base_uri": "https://localhost:8080/"
        },
        "id": "XlPi1rrAFlBU",
        "outputId": "3243f2f5-2da7-4939-90c8-fe6ef9550a5d"
      },
      "execution_count": 3,
      "outputs": [
        {
          "output_type": "stream",
          "name": "stdout",
          "text": [
            "The maximum subarray sum is: 6\n"
          ]
        }
      ]
    }
  ]
}